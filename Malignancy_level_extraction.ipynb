{
 "cells": [
  {
   "attachments": {},
   "cell_type": "markdown",
   "metadata": {},
   "source": [
    "# Malignancy level dataframe creation\n",
    "\n",
    "The aim of this notebook is to create and save a dataframe with the SeriesInstanceUid of each nodule and the associated malignancy level. This value isn't availale in the LUNA16 annotations file so these informations are taken from the annotations of LIDC-IDRI dataset (in particular the 'LIDC-XML-only' folder, the dataset and annoations files are available here: https://wiki.cancerimagingarchive.net/pages/viewpage.action?pageId=1966254)"
   ]
  },
  {
   "cell_type": "code",
   "execution_count": 1,
   "metadata": {},
   "outputs": [],
   "source": [
    "import os\n",
    "\n",
    "import pandas as pd\n",
    "\n",
    "from bs4 import BeautifulSoup"
   ]
  },
  {
   "cell_type": "code",
   "execution_count": 9,
   "metadata": {},
   "outputs": [
    {
     "name": "stdout",
     "output_type": "stream",
     "text": [
      "Processing folder \"157\"\n",
      "Processing folder \"185\"\n",
      "Processing folder \"186\"\n",
      "Processing folder \"187\"\n",
      "Processing folder \"188\"\n",
      "Processing folder \"189\"\n"
     ]
    }
   ],
   "source": [
    "# extraction of id and malignancy level from each xml file\n",
    "folder_path = 'LIDC-XML-only'\n",
    "folders = os.listdir(folder_path)\n",
    "\n",
    "id_list = []\n",
    "malignancy_list = []\n",
    "\n",
    "for f in folders:\n",
    "    print(f'Processing folder \"{f}\"')\n",
    "    dir_list = os.listdir(folder_path + '/' + f)\n",
    "   \n",
    "    for xml_file in dir_list:\n",
    "        xml_file_path = folder_path + '/' + f + '/' + xml_file\n",
    "        \n",
    "        with open(xml_file_path, 'r') as xml_f:\n",
    "            data = xml_f.read()\n",
    "\n",
    "            Bs_data = BeautifulSoup(data, 'html.parser')\n",
    "\n",
    "            try:\n",
    "                malignancy = int(Bs_data.find('malignancy').get_text())\n",
    "            except:\n",
    "                malignancy = 0 # if malignancy = 0, missing value\n",
    "                \n",
    "            uid = Bs_data.find('seriesinstanceuid').get_text()\n",
    "            \n",
    "            id_list.append(uid)\n",
    "            malignancy_list.append(malignancy)\n",
    "            "
   ]
  },
  {
   "cell_type": "code",
   "execution_count": 31,
   "metadata": {},
   "outputs": [
    {
     "data": {
      "text/html": [
       "<div>\n",
       "<style scoped>\n",
       "    .dataframe tbody tr th:only-of-type {\n",
       "        vertical-align: middle;\n",
       "    }\n",
       "\n",
       "    .dataframe tbody tr th {\n",
       "        vertical-align: top;\n",
       "    }\n",
       "\n",
       "    .dataframe thead th {\n",
       "        text-align: right;\n",
       "    }\n",
       "</style>\n",
       "<table border=\"1\" class=\"dataframe\">\n",
       "  <thead>\n",
       "    <tr style=\"text-align: right;\">\n",
       "      <th></th>\n",
       "      <th>seriesuid</th>\n",
       "      <th>malignancy_Level</th>\n",
       "    </tr>\n",
       "  </thead>\n",
       "  <tbody>\n",
       "    <tr>\n",
       "      <th>0</th>\n",
       "      <td>1.3.6.1.4.1.14519.5.2.1.6279.6001.303494235102...</td>\n",
       "      <td>3</td>\n",
       "    </tr>\n",
       "    <tr>\n",
       "      <th>1</th>\n",
       "      <td>1.3.6.1.4.1.14519.5.2.1.6279.6001.131939324905...</td>\n",
       "      <td>5</td>\n",
       "    </tr>\n",
       "    <tr>\n",
       "      <th>2</th>\n",
       "      <td>1.3.6.1.4.1.14519.5.2.1.6279.6001.213233719488...</td>\n",
       "      <td>3</td>\n",
       "    </tr>\n",
       "    <tr>\n",
       "      <th>3</th>\n",
       "      <td>1.3.6.1.4.1.14519.5.2.1.6279.6001.340202188094...</td>\n",
       "      <td>4</td>\n",
       "    </tr>\n",
       "    <tr>\n",
       "      <th>4</th>\n",
       "      <td>1.3.6.1.4.1.14519.5.2.1.6279.6001.311102747717...</td>\n",
       "      <td>2</td>\n",
       "    </tr>\n",
       "    <tr>\n",
       "      <th>...</th>\n",
       "      <td>...</td>\n",
       "      <td>...</td>\n",
       "    </tr>\n",
       "    <tr>\n",
       "      <th>1313</th>\n",
       "      <td>1.3.6.1.4.1.14519.5.2.1.6279.6001.175773779529...</td>\n",
       "      <td>3</td>\n",
       "    </tr>\n",
       "    <tr>\n",
       "      <th>1314</th>\n",
       "      <td>1.3.6.1.4.1.14519.5.2.1.6279.6001.293593766328...</td>\n",
       "      <td>4</td>\n",
       "    </tr>\n",
       "    <tr>\n",
       "      <th>1315</th>\n",
       "      <td>1.3.6.1.4.1.14519.5.2.1.6279.6001.133132722052...</td>\n",
       "      <td>2</td>\n",
       "    </tr>\n",
       "    <tr>\n",
       "      <th>1316</th>\n",
       "      <td>1.3.6.1.4.1.14519.5.2.1.6279.6001.229343399861...</td>\n",
       "      <td>2</td>\n",
       "    </tr>\n",
       "    <tr>\n",
       "      <th>1317</th>\n",
       "      <td>1.3.6.1.4.1.14519.5.2.1.6279.6001.229343399861...</td>\n",
       "      <td>2</td>\n",
       "    </tr>\n",
       "  </tbody>\n",
       "</table>\n",
       "<p>1318 rows × 2 columns</p>\n",
       "</div>"
      ],
      "text/plain": [
       "                                              seriesuid  malignancy_Level\n",
       "0     1.3.6.1.4.1.14519.5.2.1.6279.6001.303494235102...                 3\n",
       "1     1.3.6.1.4.1.14519.5.2.1.6279.6001.131939324905...                 5\n",
       "2     1.3.6.1.4.1.14519.5.2.1.6279.6001.213233719488...                 3\n",
       "3     1.3.6.1.4.1.14519.5.2.1.6279.6001.340202188094...                 4\n",
       "4     1.3.6.1.4.1.14519.5.2.1.6279.6001.311102747717...                 2\n",
       "...                                                 ...               ...\n",
       "1313  1.3.6.1.4.1.14519.5.2.1.6279.6001.175773779529...                 3\n",
       "1314  1.3.6.1.4.1.14519.5.2.1.6279.6001.293593766328...                 4\n",
       "1315  1.3.6.1.4.1.14519.5.2.1.6279.6001.133132722052...                 2\n",
       "1316  1.3.6.1.4.1.14519.5.2.1.6279.6001.229343399861...                 2\n",
       "1317  1.3.6.1.4.1.14519.5.2.1.6279.6001.229343399861...                 2\n",
       "\n",
       "[1318 rows x 2 columns]"
      ]
     },
     "execution_count": 31,
     "metadata": {},
     "output_type": "execute_result"
    }
   ],
   "source": [
    "# dataframe creation\n",
    "data_dict = {\n",
    "    'seriesuid': id_list,\n",
    "    'malignancy_Level': malignancy_list\n",
    "}\n",
    "\n",
    "df = pd.DataFrame(data_dict)\n",
    "df"
   ]
  },
  {
   "cell_type": "code",
   "execution_count": 30,
   "metadata": {},
   "outputs": [],
   "source": [
    "# save the dataframe\n",
    "df.to_csv('malignancy_annotations.csv', sep=';')"
   ]
  }
 ],
 "metadata": {
  "kernelspec": {
   "display_name": "Python 3",
   "language": "python",
   "name": "python3"
  },
  "language_info": {
   "codemirror_mode": {
    "name": "ipython",
    "version": 3
   },
   "file_extension": ".py",
   "mimetype": "text/x-python",
   "name": "python",
   "nbconvert_exporter": "python",
   "pygments_lexer": "ipython3",
   "version": "3.10.9"
  },
  "orig_nbformat": 4,
  "vscode": {
   "interpreter": {
    "hash": "97cc609b13305c559618ec78a438abc56230b9381f827f22d070313b9a1f3777"
   }
  }
 },
 "nbformat": 4,
 "nbformat_minor": 2
}
